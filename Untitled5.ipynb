{
 "cells": [
  {
   "cell_type": "markdown",
   "id": "e4c23130",
   "metadata": {},
   "source": [
    "Your friend has opened a new Food Blogging handle on Instagram and wants to get famous. He wants to follow a lot of people so that he can get noticed quickly but it is a tedious task so he asks you to help him. As you have just learned automation using Selenium, you decided to help him by creating an Instagram Bot. You need to create different functions for each task"
   ]
  },
  {
   "cell_type": "code",
   "execution_count": 36,
   "id": "a7f845ff",
   "metadata": {},
   "outputs": [
    {
     "name": "stdout",
     "output_type": "stream",
     "text": [
      "Requirement already satisfied: selenium in c:\\users\\lenovo\\anaconda3\\lib\\site-packages (4.3.0)\n",
      "Requirement already satisfied: trio~=0.17 in c:\\users\\lenovo\\anaconda3\\lib\\site-packages (from selenium) (0.21.0)\n",
      "Requirement already satisfied: urllib3[secure,socks]~=1.26 in c:\\users\\lenovo\\anaconda3\\lib\\site-packages (from selenium) (1.26.9)\n",
      "Requirement already satisfied: trio-websocket~=0.9 in c:\\users\\lenovo\\anaconda3\\lib\\site-packages (from selenium) (0.9.2)\n",
      "Requirement already satisfied: cffi>=1.14 in c:\\users\\lenovo\\anaconda3\\lib\\site-packages (from trio~=0.17->selenium) (1.15.0)\n",
      "Requirement already satisfied: idna in c:\\users\\lenovo\\anaconda3\\lib\\site-packages (from trio~=0.17->selenium) (3.3)\n",
      "Requirement already satisfied: async-generator>=1.9 in c:\\users\\lenovo\\anaconda3\\lib\\site-packages (from trio~=0.17->selenium) (1.10)\n",
      "Requirement already satisfied: sniffio in c:\\users\\lenovo\\anaconda3\\lib\\site-packages (from trio~=0.17->selenium) (1.2.0)\n",
      "Requirement already satisfied: outcome in c:\\users\\lenovo\\anaconda3\\lib\\site-packages (from trio~=0.17->selenium) (1.2.0)\n",
      "Requirement already satisfied: sortedcontainers in c:\\users\\lenovo\\anaconda3\\lib\\site-packages (from trio~=0.17->selenium) (2.4.0)\n",
      "Requirement already satisfied: attrs>=19.2.0 in c:\\users\\lenovo\\anaconda3\\lib\\site-packages (from trio~=0.17->selenium) (21.4.0)\n",
      "Requirement already satisfied: pycparser in c:\\users\\lenovo\\anaconda3\\lib\\site-packages (from cffi>=1.14->trio~=0.17->selenium) (2.21)\n",
      "Requirement already satisfied: wsproto>=0.14 in c:\\users\\lenovo\\anaconda3\\lib\\site-packages (from trio-websocket~=0.9->selenium) (1.1.0)\n",
      "Requirement already satisfied: PySocks!=1.5.7,<2.0,>=1.5.6 in c:\\users\\lenovo\\anaconda3\\lib\\site-packages (from urllib3[secure,socks]~=1.26->selenium) (1.7.1)\n",
      "Requirement already satisfied: cryptography>=1.3.4 in c:\\users\\lenovo\\anaconda3\\lib\\site-packages (from urllib3[secure,socks]~=1.26->selenium) (3.4.8)\n",
      "Requirement already satisfied: pyOpenSSL>=0.14 in c:\\users\\lenovo\\anaconda3\\lib\\site-packages (from urllib3[secure,socks]~=1.26->selenium) (21.0.0)\n",
      "Requirement already satisfied: certifi in c:\\users\\lenovo\\anaconda3\\lib\\site-packages (from urllib3[secure,socks]~=1.26->selenium) (2021.10.8)\n",
      "Requirement already satisfied: six>=1.5.2 in c:\\users\\lenovo\\anaconda3\\lib\\site-packages (from pyOpenSSL>=0.14->urllib3[secure,socks]~=1.26->selenium) (1.16.0)\n",
      "Requirement already satisfied: h11<1,>=0.9.0 in c:\\users\\lenovo\\anaconda3\\lib\\site-packages (from wsproto>=0.14->trio-websocket~=0.9->selenium) (0.13.0)\n"
     ]
    }
   ],
   "source": [
    "!pip install selenium"
   ]
  },
  {
   "cell_type": "code",
   "execution_count": 37,
   "id": "4a738a9a",
   "metadata": {},
   "outputs": [],
   "source": [
    "from selenium import webdriver\n",
    "from selenium.webdriver.support import expected_conditions as EC\n",
    "from selenium.webdriver.support.ui import WebDriverWait\n",
    "from selenium.webdriver.common.by import By\n",
    "from selenium.common.exceptions import TimeoutException\n",
    "from bs4 import BeautifulSoup\n",
    "import time"
   ]
  },
  {
   "cell_type": "code",
   "execution_count": 38,
   "id": "bb5550cd",
   "metadata": {},
   "outputs": [
    {
     "name": "stdout",
     "output_type": "stream",
     "text": [
      "Requirement already satisfied: webdriver-manager in c:\\users\\lenovo\\anaconda3\\lib\\site-packages (3.8.2)\n",
      "Requirement already satisfied: requests in c:\\users\\lenovo\\anaconda3\\lib\\site-packages (from webdriver-manager) (2.27.1)\n",
      "Requirement already satisfied: python-dotenv in c:\\users\\lenovo\\anaconda3\\lib\\site-packages (from webdriver-manager) (0.20.0)\n",
      "Requirement already satisfied: charset-normalizer~=2.0.0 in c:\\users\\lenovo\\anaconda3\\lib\\site-packages (from requests->webdriver-manager) (2.0.4)\n",
      "Requirement already satisfied: idna<4,>=2.5 in c:\\users\\lenovo\\anaconda3\\lib\\site-packages (from requests->webdriver-manager) (3.3)\n",
      "Requirement already satisfied: certifi>=2017.4.17 in c:\\users\\lenovo\\anaconda3\\lib\\site-packages (from requests->webdriver-manager) (2021.10.8)\n",
      "Requirement already satisfied: urllib3<1.27,>=1.21.1 in c:\\users\\lenovo\\anaconda3\\lib\\site-packages (from requests->webdriver-manager) (1.26.9)\n"
     ]
    }
   ],
   "source": [
    "!pip install webdriver-manager"
   ]
  },
  {
   "cell_type": "code",
   "execution_count": 51,
   "id": "e38343ac",
   "metadata": {},
   "outputs": [
    {
     "name": "stdout",
     "output_type": "stream",
     "text": [
      "\n"
     ]
    }
   ],
   "source": [
    "from selenium import webdriver\n",
    "from selenium.webdriver.chrome.service import Service\n",
    "from webdriver_manager.chrome import ChromeDriverManager\n",
    "\n",
    "driver = webdriver.Chrome(service=Service(ChromeDriverManager().install()))\n",
    "driver.maximize_window()"
   ]
  },
  {
   "cell_type": "code",
   "execution_count": 52,
   "id": "2069c2a9",
   "metadata": {},
   "outputs": [],
   "source": [
    "driver.get('https://www.instagram.com/')"
   ]
  },
  {
   "cell_type": "code",
   "execution_count": 47,
   "id": "d180bb93",
   "metadata": {},
   "outputs": [],
   "source": [
    "username = 'upducto'\n",
    "password = 'pass'"
   ]
  },
  {
   "cell_type": "code",
   "execution_count": 48,
   "id": "539e7d6d",
   "metadata": {},
   "outputs": [],
   "source": [
    "wait = WebDriverWait(driver, 10)"
   ]
  },
  {
   "cell_type": "markdown",
   "id": "a2364196",
   "metadata": {},
   "source": [
    "Login to your Instagram Handle\n",
    "Submit with sample username and password"
   ]
  },
  {
   "cell_type": "code",
   "execution_count": 53,
   "id": "54855353",
   "metadata": {},
   "outputs": [],
   "source": [
    "def LogIn(username, password):\n",
    "    try :\n",
    "        #locating username textbox and sending username\n",
    "        user_name = wait.until(EC.presence_of_element_located((By.NAME,'username')))\n",
    "        user_name.send_keys(username)\n",
    "        #locating password box and sending password\n",
    "        pwd = driver.find_element_by_name('password')\n",
    "        pwd.send_keys(password)\n",
    "        #locating login button \n",
    "        button = wait.until(EC.presence_of_element_located((By.XPATH,'//*[@id=\"loginForm\"]/div[1]/div[3]/button/div')))\n",
    "        button.submit()\n",
    "        #Save Your Login Info? : Not Now\n",
    "        pop = wait.until(EC.presence_of_element_located((By.XPATH,'//*[@id=\"react-root\"]/section/main/div/div/div/div/button')))\n",
    "        pop.click()\n",
    "        \n",
    "    except TimeoutException :\n",
    "        print (\"Something went wrong! Try Again\")"
   ]
  },
  {
   "cell_type": "code",
   "execution_count": null,
   "id": "6450b8ee",
   "metadata": {},
   "outputs": [],
   "source": [
    "LogIn(username, password)"
   ]
  },
  {
   "cell_type": "code",
   "execution_count": 32,
   "id": "abec9056",
   "metadata": {},
   "outputs": [],
   "source": [
    "def search(s):\n",
    "    try:\n",
    "        #locating serch bar and sending text\n",
    "        search_box = wait.until(EC.presence_of_element_located((By.CLASS_NAME,'XTCLo')))\n",
    "        search_box.send_keys(s)\n",
    "        #waiting till all searched is located\n",
    "        wait.until(EC.presence_of_element_located((By.CLASS_NAME,'yCE8d')))\n",
    "        #extracting all serched handle\n",
    "        handle_names = driver.find_elements_by_class_name('yCE8d')\n",
    "        names = []\n",
    "        #extracting username\n",
    "        for i in handle_names :\n",
    "            if i.text[0] != '#' :\n",
    "                names.append(i.text.split('\\n')[0])             \n",
    "\n",
    "        time.sleep(5)\n",
    "        #clearing search bar\n",
    "        driver.find_element_by_class_name('coreSpriteSearchClear').click()\n",
    " \n",
    "        return names\n",
    "    \n",
    "    except TimeoutException :\n",
    "        print('No Search Found!')"
   ]
  },
  {
   "cell_type": "code",
   "execution_count": null,
   "id": "51aac776",
   "metadata": {},
   "outputs": [],
   "source": [
    "name_list = search('food')\n",
    "for i in name_list :\n",
    "    print(i)"
   ]
  },
  {
   "cell_type": "markdown",
   "id": "7da9e277",
   "metadata": {},
   "source": [
    "Searching and Opening a profile using\n",
    "Open profile of “So Delhi”"
   ]
  },
  {
   "cell_type": "code",
   "execution_count": null,
   "id": "8167ff7c",
   "metadata": {},
   "outputs": [],
   "source": [
    "def search_open_profile(s):\n",
    "    try:\n",
    "        #locatong search box bar and sending text \n",
    "        search_box = wait.until(EC.presence_of_element_located((By.CLASS_NAME,'XTCLo')))\n",
    "        search_box.send_keys(s)\n",
    "        #locating serched result\n",
    "        res = wait.until(EC.presence_of_element_located((By.CLASS_NAME,'yCE8d')))\n",
    "        res.click()           \n",
    "\n",
    "        time.sleep(5)\n",
    "        #driver.back()\n",
    "    \n",
    "    except TimeoutException :\n",
    "        print('No Search Found!')"
   ]
  },
  {
   "cell_type": "code",
   "execution_count": null,
   "id": "abe46b0f",
   "metadata": {},
   "outputs": [],
   "source": [
    "search_open_profile('So Delhi')"
   ]
  },
  {
   "cell_type": "markdown",
   "id": "eab3f0a5",
   "metadata": {},
   "source": [
    "Follow/Unfollow given handle -\n",
    "1.Open the Instagram Handle of “So Delhi”\n",
    "2.Start following it. Print a message if you are already following\n",
    "3.After following, unfollow the instagram handle. Print a message if you have already unfollowed."
   ]
  },
  {
   "cell_type": "code",
   "execution_count": null,
   "id": "1f2629e9",
   "metadata": {},
   "outputs": [],
   "source": [
    "def follow():\n",
    "    try :\n",
    "        #locating follow button\n",
    "        btn = wait.until(EC.presence_of_element_located((By.CLASS_NAME,'_5f5mN')))\n",
    "        #checking for text\n",
    "        if btn.text == 'Follow' : \n",
    "            btn.click()\n",
    "            time.sleep(3)\n",
    "        \n",
    "        else : \n",
    "            print('Already Following')\n",
    "\n",
    "    except TimeoutException :\n",
    "        print(\"Something Went Wrong!\")"
   ]
  },
  {
   "cell_type": "code",
   "execution_count": null,
   "id": "a0727675",
   "metadata": {},
   "outputs": [],
   "source": [
    "def unfollow():\n",
    "    try :\n",
    "        #locating follow button\n",
    "        btn = wait.until(EC.presence_of_element_located((By.CLASS_NAME,'_5f5mN')))\n",
    "        #checking for text\n",
    "        if btn.text !='Follow' : \n",
    "            btn.click()\n",
    "            time.sleep(2)\n",
    "            #locating popup window (when you click on follow button)\n",
    "            pop_up = wait.until(EC.presence_of_element_located((By.CLASS_NAME,'aOOlW')))\n",
    "            pop_up.click()\n",
    "            time.sleep(3)\n",
    "            \n",
    "        else : \n",
    "            print('Already Unfollowed')\n",
    "\n",
    "    except TimeoutException :\n",
    "        print(\"Something Went Wrong!\")"
   ]
  },
  {
   "cell_type": "code",
   "execution_count": null,
   "id": "c2b43041",
   "metadata": {},
   "outputs": [],
   "source": [
    "search_open_profile('So Delhi')\n",
    "#for following this instgram handle\n",
    "follow()\n",
    "#for unfollowing this instgram handle\n",
    "unfollow()"
   ]
  },
  {
   "cell_type": "markdown",
   "id": "42c4544b",
   "metadata": {},
   "source": [
    "Like/Unlike posts\n",
    "1.Liking the top 30 posts of the ‘dilsefoodie'. Print message if you have already liked it.\n",
    "2.Unliking the top 30 posts of the ‘dilsefoodie’. Print message if you have already unliked it."
   ]
  },
  {
   "cell_type": "code",
   "execution_count": null,
   "id": "031d3e2c",
   "metadata": {},
   "outputs": [],
   "source": [
    "def Like_Post():\n",
    "    try :\n",
    "        #scrolling for locating post\n",
    "        driver.execute_script('window.scrollTo(0, 6000);')\n",
    "        time.sleep(3)\n",
    "        driver.execute_script('window.scrollTo(0, -6000);')\n",
    "        time.sleep(3)\n",
    "        #locating post\n",
    "        posts = driver.find_elements_by_class_name('v1Nh3')\n",
    "        \n",
    "        for i in range(30):\n",
    "            posts[i].click()\n",
    "            time.sleep(2)\n",
    "            #locating like/unke button\n",
    "            like = wait.until(EC.presence_of_element_located((By.CLASS_NAME,'fr66n')))\n",
    "            st = BeautifulSoup(like.get_attribute('innerHTML'),\"html.parser\").svg['aria-label']\n",
    "        \n",
    "            if st == 'Like' :\n",
    "                like.click()\n",
    "                time.sleep(2)\n",
    "            else :\n",
    "                print('You have already LIKED Post Number :', i+1)\n",
    "                time.sleep(2)\n",
    "            #locating cross button for closing post\n",
    "            driver.find_element_by_class_name('yiMZG').click()\n",
    "            time.sleep(2)\n",
    "            \n",
    "    except TimeoutException :\n",
    "        print(\"Something Went Wrong!\")"
   ]
  },
  {
   "cell_type": "code",
   "execution_count": null,
   "id": "9111482d",
   "metadata": {},
   "outputs": [],
   "source": [
    "def Unlike_Post():\n",
    "    try :\n",
    "        #scrolling for locating post\n",
    "        driver.execute_script('window.scrollTo(0, 6000);')\n",
    "        time.sleep(3)\n",
    "        driver.execute_script('window.scrollTo(0, -6000);')\n",
    "        time.sleep(3)\n",
    "        #locating post\n",
    "        posts = driver.find_elements_by_class_name('v1Nh3')\n",
    "     \n",
    "        for i in range(30):\n",
    "            posts[i].click()\n",
    "            time.sleep(2)\n",
    "            #locating like/unke button\n",
    "            like = wait.until(EC.presence_of_element_located((By.CLASS_NAME,'fr66n')))\n",
    "            st = BeautifulSoup(like.get_attribute('innerHTML'),\"html.parser\").svg['aria-label']\n",
    "        \n",
    "            if st == 'Unlike' :\n",
    "                like.click()\n",
    "                time.sleep(2)\n",
    "            else :\n",
    "                print('You have already UNLIKED Post Number', i+1)\n",
    "                time.sleep(2)\n",
    "            #locating cross button for closing post\n",
    "            driver.find_element_by_class_name('yiMZG').click()\n",
    "            time.sleep(2)\n",
    "            \n",
    "    except TimeoutException :\n",
    "        print(\"Something Went Wrong!\")"
   ]
  },
  {
   "cell_type": "code",
   "execution_count": null,
   "id": "4fb359a3",
   "metadata": {},
   "outputs": [],
   "source": [
    "search_open_profile('dilsefoodie')"
   ]
  },
  {
   "cell_type": "code",
   "execution_count": null,
   "id": "0f15f84a",
   "metadata": {},
   "outputs": [],
   "source": [
    "Like_Post()"
   ]
  },
  {
   "cell_type": "code",
   "execution_count": null,
   "id": "0b6c94be",
   "metadata": {},
   "outputs": [],
   "source": [
    "Unlike_Post()"
   ]
  },
  {
   "cell_type": "markdown",
   "id": "15578a1e",
   "metadata": {},
   "source": [
    "Extract list of followers\n",
    "1.Extract the usernames of the first 500 followers of ‘foodtalkindia’ and ‘sodelhi’.\n",
    "2.Now print all the followers of “foodtalkindia” that you are following but those who don’t follow you."
   ]
  },
  {
   "cell_type": "code",
   "execution_count": null,
   "id": "4885839d",
   "metadata": {},
   "outputs": [],
   "source": [
    "def Extract_Followers():\n",
    "    try :\n",
    "        # locating followers button and click on it\n",
    "        followers_btn = wait.until(EC.presence_of_all_elements_located((By.CLASS_NAME,'g47SY')))\n",
    "        followers_btn[1].click()\n",
    "        \n",
    "        #locating followers list\n",
    "        frame = driver.find_element_by_class_name('isgrP')\n",
    "        #scrolling untill first 500 user is located\n",
    "        for i in range(50):\n",
    "            time.sleep(1)\n",
    "            driver.execute_script(\"arguments[0].scrollTop=arguments[0].scrollHeight\",frame)\n",
    "        \n",
    "        names = []\n",
    "        #extracting userdata\n",
    "        followers = driver.find_elements_by_class_name('d7ByH')\n",
    "        #extracting username\n",
    "        for i in followers[:500] :\n",
    "                names.append(i.text.split('\\n')[0])\n",
    "            \n",
    "        return names\n",
    "    except TimeoutException :\n",
    "        print(\"Something Went Wrong!\")"
   ]
  },
  {
   "cell_type": "code",
   "execution_count": null,
   "id": "cd889199",
   "metadata": {},
   "outputs": [],
   "source": [
    "search_open_profile('foodtalkindia')"
   ]
  },
  {
   "cell_type": "code",
   "execution_count": null,
   "id": "840eb167",
   "metadata": {},
   "outputs": [],
   "source": [
    "users = Extract_Followers()\n",
    "ind = 1\n",
    "for username in users:\n",
    "    print(ind,username)\n",
    "    ind += 1"
   ]
  },
  {
   "cell_type": "markdown",
   "id": "5d086b13",
   "metadata": {},
   "source": [
    "First 500 followers of ‘sodelhi’"
   ]
  },
  {
   "cell_type": "code",
   "execution_count": null,
   "id": "aef6a3dc",
   "metadata": {},
   "outputs": [],
   "source": [
    "search_open_profile('sodelhi')"
   ]
  },
  {
   "cell_type": "code",
   "execution_count": null,
   "id": "45653566",
   "metadata": {},
   "outputs": [],
   "source": [
    "users = Extract_Followers()\n",
    "ind = 1\n",
    "for username in users:\n",
    "    print(ind,username)\n",
    "    ind += 1"
   ]
  },
  {
   "cell_type": "markdown",
   "id": "0f0fa1bb",
   "metadata": {},
   "source": [
    "Print all the followers of “foodtalkindia” that you are following but those who don’t follow you."
   ]
  },
  {
   "cell_type": "code",
   "execution_count": null,
   "id": "acfd4469",
   "metadata": {},
   "outputs": [],
   "source": [
    "def Following():\n",
    "    try :\n",
    "        # locating following button and click on it\n",
    "        followers_btn = wait.until(EC.presence_of_all_elements_located((By.CLASS_NAME,'-nal3')))\n",
    "        followers_btn[2].click()\n",
    "        \n",
    "        #locating followers list\n",
    "        frame = driver.find_element_by_class_name('isgrP')\n",
    "        #scrolling untill all users are located\n",
    "        for i in range(20):\n",
    "            time.sleep(1)\n",
    "            driver.execute_script(\"arguments[0].scrollTop=arguments[0].scrollHeight\",frame)\n",
    "        \n",
    "        names = []\n",
    "        #extracting userdata\n",
    "        following = driver.find_elements_by_class_name('d7ByH')\n",
    "        #extracting username\n",
    "        for i in following :\n",
    "                names.append(i.text.split('\\n')[0])\n",
    "            \n",
    "        return names\n",
    "    except TimeoutException :\n",
    "        print(\"Something Went Wrong!\")"
   ]
  },
  {
   "cell_type": "code",
   "execution_count": null,
   "id": "36ebdcb3",
   "metadata": {},
   "outputs": [],
   "source": [
    "#for search and open 'foodtalkindia' instagram handle\n",
    "search_open_profile('foodtalkindia')\n",
    "# Extracting followers using Extract_Followers() function\n",
    "followers_of_foodind = Extract_Followers()\n",
    "#casting into set\n",
    "followers_of_foodind = set(followers_of_foodind)"
   ]
  },
  {
   "cell_type": "code",
   "execution_count": null,
   "id": "a8c7dc9a",
   "metadata": {},
   "outputs": [],
   "source": [
    "search_open_profile(username)\n",
    "followed_by_me = Following()\n",
    "followed_by_me = set(followed_by_me)"
   ]
  },
  {
   "cell_type": "code",
   "execution_count": null,
   "id": "8df6bf10",
   "metadata": {},
   "outputs": [],
   "source": [
    "s1=(followers_of_foodind).intersection(followed_by_me)\n",
    "if len(s1) == 0:\n",
    "    print('No such users found')\n",
    "else:\n",
    "    #now extracting my followers\n",
    "    my_follower = Extract_Followers()\n",
    "    my_follower = set(my_follower)\n",
    "    #taking intersection with s1, so s2 contains only users that I am following them but they don’t follow me\n",
    "    s2=s1.intersection(my_follower)\n",
    "    if len(s2) == 0:\n",
    "        print('No such users found')\n",
    "    else:\n",
    "        for user in s2:\n",
    "            print(user)\n",
    "    "
   ]
  },
  {
   "cell_type": "markdown",
   "id": "b6a476ea",
   "metadata": {},
   "source": [
    "Check the story of ‘coding.ninjas’. Consider the following Scenarios and print error messages accordingly -\n",
    "1.If You have already seen the story.\n",
    "2.Or The user has no story.\n",
    "3.Or View the story if not yet seen."
   ]
  },
  {
   "cell_type": "code",
   "execution_count": null,
   "id": "76070d38",
   "metadata": {},
   "outputs": [],
   "source": [
    "def Check_Story():\n",
    "    try:\n",
    "        #locating story or profile pic\n",
    "        story = wait.until(EC.presence_of_element_located((By.CLASS_NAME,\"RR-M-.h5uC0\")))\n",
    "    \n",
    "        #check the Profile photo size to find out story is available or not\n",
    "        height = driver.find_element_by_class_name('CfWVH').get_attribute('height')\n",
    "        if int(height) == 166:\n",
    "            print(\"Already seen the story\")\n",
    "        else:\n",
    "            print(\"Viewing the story\")\n",
    "            driver.execute_script(\"arguments[0].click();\",story)\n",
    "    except:\n",
    "        print(\"No story is available to view\")"
   ]
  },
  {
   "cell_type": "code",
   "execution_count": null,
   "id": "b845fc79",
   "metadata": {},
   "outputs": [],
   "source": [
    "search_open_profile('coding.ninjas')"
   ]
  },
  {
   "cell_type": "code",
   "execution_count": null,
   "id": "f789d59c",
   "metadata": {},
   "outputs": [],
   "source": [
    "Check_Story()"
   ]
  }
 ],
 "metadata": {
  "kernelspec": {
   "display_name": "Python 3 (ipykernel)",
   "language": "python",
   "name": "python3"
  },
  "language_info": {
   "codemirror_mode": {
    "name": "ipython",
    "version": 3
   },
   "file_extension": ".py",
   "mimetype": "text/x-python",
   "name": "python",
   "nbconvert_exporter": "python",
   "pygments_lexer": "ipython3",
   "version": "3.9.12"
  }
 },
 "nbformat": 4,
 "nbformat_minor": 5
}
